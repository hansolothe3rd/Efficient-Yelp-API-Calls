{
 "cells": [
  {
   "cell_type": "markdown",
   "id": "68559415",
   "metadata": {},
   "source": [
    "# Efficient Yelp API Calls\n",
    "- Daniel Barella\n",
    "- 2/1/23"
   ]
  },
  {
   "cell_type": "markdown",
   "id": "9ddb37ba",
   "metadata": {},
   "source": [
    "## For this assignment, you will be working with the Yelp API.\n",
    "\n",
    "- As before, you will use the Yelp API to search your favorite city for a cuisine type of your choice.\n",
    "\n",
    "- Extract all of the results from your search and compile them into one dataframe using a for loop as shown in the lesson \"Code for Efficient API Extraction\"\n",
    "\n",
    "- Save your notebook, commit the change to your repository and submit the repository URL for this assignment.\n",
    "\n"
   ]
  },
  {
   "cell_type": "code",
   "execution_count": 1,
   "id": "433b6826",
   "metadata": {},
   "outputs": [],
   "source": [
    "# Standard Imports\n",
    "import numpy as np\n",
    "import pandas as pd\n",
    "import matplotlib.pyplot as plt\n",
    "import seaborn as sns\n",
    "# Additional Imports\n",
    "import os, math, time\n",
    "from yelpapi import YelpAPI\n",
    "from tqdm.notebook import tqdm_notebook"
   ]
  },
  {
   "cell_type": "code",
   "execution_count": 2,
   "id": "7d9cabc9",
   "metadata": {},
   "outputs": [],
   "source": [
    "import json\n",
    "with open('/Users/danielbarella/.secret/yelp_api.json') as f: #change the path to match YOUR path!!\n",
    "    login = json.load(f)\n",
    "# Instantiate YelpAPI Variable\n",
    "yelp_api = YelpAPI(login['api-key'], timeout_s=5.0)"
   ]
  },
  {
   "cell_type": "code",
   "execution_count": 3,
   "id": "e766c765",
   "metadata": {},
   "outputs": [],
   "source": [
    "# set our API call parameters \n",
    "LOCATION = 'Portland,OR'\n",
    "TERM = 'Pizza'"
   ]
  },
  {
   "cell_type": "code",
   "execution_count": 4,
   "id": "e5fbde96",
   "metadata": {},
   "outputs": [
    {
     "data": {
      "text/plain": [
       "'Data/results_in_progress_Portland_pizza.json'"
      ]
     },
     "execution_count": 4,
     "metadata": {},
     "output_type": "execute_result"
    }
   ],
   "source": [
    "# Specifying JSON_FILE filename (can include a folder)\n",
    "# include the search terms in the filename\n",
    "JSON_FILE = \"Data/results_in_progress_Portland_pizza.json\"\n",
    "JSON_FILE"
   ]
  },
  {
   "cell_type": "code",
   "execution_count": 5,
   "id": "738efc2d",
   "metadata": {},
   "outputs": [
    {
     "name": "stdout",
     "output_type": "stream",
     "text": [
      "[i] Data/results_in_progress_Portland_pizza.json not found. Saving empty list to file.\n"
     ]
    }
   ],
   "source": [
    "## Check if JSON_FILE exists\n",
    "file_exists = os.path.isfile(JSON_FILE)\n",
    "## If it does not exist: \n",
    "if file_exists == False:\n",
    "    \n",
    "    ## CREATE ANY NEEDED FOLDERS\n",
    "    # Get the Folder Name only\n",
    "    folder = os.path.dirname(JSON_FILE)\n",
    "    ## If JSON_FILE included a folder:\n",
    "    if len(folder)>0:\n",
    "        # create the folder\n",
    "        os.makedirs(folder,exist_ok=True)\n",
    "        \n",
    "        \n",
    "    ## INFORM USER AND SAVE EMPTY LIST\n",
    "    print(f'[i] {JSON_FILE} not found. Saving empty list to file.')\n",
    "    \n",
    "    \n",
    "    # save an empty list\n",
    "    with open(JSON_FILE,'w') as f:\n",
    "        json.dump([],f)  \n",
    "# If it exists, inform user\n",
    "else:\n",
    "    print(f\"[i] {JSON_FILE} already exists.\")"
   ]
  },
  {
   "cell_type": "code",
   "execution_count": 6,
   "id": "4592f3b4",
   "metadata": {},
   "outputs": [
    {
     "name": "stdout",
     "output_type": "stream",
     "text": [
      "- 0 previous results found.\n"
     ]
    }
   ],
   "source": [
    "## Load previous results and use len of results for offset\n",
    "with open(JSON_FILE,'r') as f:\n",
    "    previous_results = json.load(f)\n",
    "    \n",
    "## set offset based on previous results\n",
    "n_results = len(previous_results)\n",
    "print(f'- {n_results} previous results found.')"
   ]
  },
  {
   "cell_type": "code",
   "execution_count": 7,
   "id": "f1c69eb5",
   "metadata": {},
   "outputs": [
    {
     "data": {
      "text/plain": [
       "dict_keys(['businesses', 'total', 'region'])"
      ]
     },
     "execution_count": 7,
     "metadata": {},
     "output_type": "execute_result"
    }
   ],
   "source": [
    "# use our yelp_api variable's search_query method to perform our API call\n",
    "results = yelp_api.search_query(location=LOCATION,\n",
    "                                term=TERM,\n",
    "                               offset=n_results)\n",
    "results.keys()"
   ]
  },
  {
   "cell_type": "code",
   "execution_count": 8,
   "id": "3d11e73d",
   "metadata": {},
   "outputs": [
    {
     "data": {
      "text/plain": [
       "1700"
      ]
     },
     "execution_count": 8,
     "metadata": {},
     "output_type": "execute_result"
    }
   ],
   "source": [
    "## How many results total?\n",
    "total_results = results['total']\n",
    "total_results"
   ]
  },
  {
   "cell_type": "code",
   "execution_count": 9,
   "id": "1b8cab91",
   "metadata": {},
   "outputs": [
    {
     "data": {
      "text/plain": [
       "20"
      ]
     },
     "execution_count": 9,
     "metadata": {},
     "output_type": "execute_result"
    }
   ],
   "source": [
    "## How many did we get the details for?\n",
    "results_per_page = len(results['businesses'])\n",
    "results_per_page"
   ]
  },
  {
   "cell_type": "code",
   "execution_count": 10,
   "id": "1f01da92",
   "metadata": {},
   "outputs": [
    {
     "data": {
      "text/plain": [
       "85"
      ]
     },
     "execution_count": 10,
     "metadata": {},
     "output_type": "execute_result"
    }
   ],
   "source": [
    "# Import additional packages for controlling our loop\n",
    "#import time, math\n",
    "# Use math.ceil to round up for the total number of pages of results.\n",
    "n_pages = math.ceil((results['total']-n_results)/ results_per_page)\n",
    "n_pages"
   ]
  },
  {
   "cell_type": "code",
   "execution_count": 11,
   "id": "aa28be31",
   "metadata": {},
   "outputs": [],
   "source": [
    "# join new results with old list with extend and save to file\n",
    "previous_results.extend(results['businesses'])  \n",
    "with open(JSON_FILE,'w') as f:\n",
    "     json.dump(previous_results,f)"
   ]
  },
  {
   "cell_type": "code",
   "execution_count": 12,
   "id": "a7c9a7d3",
   "metadata": {},
   "outputs": [
    {
     "data": {
      "application/vnd.jupyter.widget-view+json": {
       "model_id": "8a99104649b545afaf89819017cd5047",
       "version_major": 2,
       "version_minor": 0
      },
      "text/plain": [
       "  0%|          | 0/85 [00:00<?, ?it/s]"
      ]
     },
     "metadata": {},
     "output_type": "display_data"
    }
   ],
   "source": [
    "for i in tqdm_notebook(range(n_pages)):\n",
    "    # adds 200 ms pause\n",
    "    time.sleep(.2) "
   ]
  },
  {
   "cell_type": "code",
   "execution_count": 13,
   "id": "68c6690d",
   "metadata": {},
   "outputs": [],
   "source": [
    "def create_json_file(JSON_FILE,  delete_if_exists=False):\n",
    "    \n",
    "    ## Check if JSON_FILE exists\n",
    "    file_exists = os.path.isfile(JSON_FILE)\n",
    "    \n",
    "    ## If it DOES exist:\n",
    "    if file_exists == True:\n",
    "        \n",
    "        ## Check if user wants to delete if exists\n",
    "        if delete_if_exists==True:\n",
    "            \n",
    "            print(f\"[!] {JSON_FILE} already exists. Deleting previous file...\")\n",
    "            ## delete file and confirm it no longer exits.\n",
    "            os.remove(JSON_FILE)\n",
    "            ## Recursive call to function after old file deleted\n",
    "            create_json_file(JSON_FILE,delete_if_exists=False)\n",
    "        else:\n",
    "            print(f\"[i] {JSON_FILE} already exists.\")            \n",
    "            \n",
    "            \n",
    "    ## If it does NOT exist:\n",
    "    else:\n",
    "        \n",
    "        ## INFORM USER AND SAVE EMPTY LIST\n",
    "        print(f\"[i] {JSON_FILE} not found. Saving empty list to new file.\")\n",
    "        \n",
    "        ## CREATE ANY NEEDED FOLDERS\n",
    "        # Get the Folder Name only\n",
    "        folder = os.path.dirname(JSON_FILE)\n",
    "        \n",
    "        ## If JSON_FILE included a folder:\n",
    "        if len(folder)>0:\n",
    "            # create the folder\n",
    "            os.makedirs(folder,exist_ok=True)\n",
    "        ## Save empty list to start the json file\n",
    "        with open(JSON_FILE,'w') as f:\n",
    "            json.dump([],f)  "
   ]
  },
  {
   "cell_type": "code",
   "execution_count": 14,
   "id": "5fa13e75",
   "metadata": {},
   "outputs": [
    {
     "name": "stdout",
     "output_type": "stream",
     "text": [
      "[!] Data/results_in_progress_Portland_pizza.json already exists. Deleting previous file...\n",
      "[i] Data/results_in_progress_Portland_pizza.json not found. Saving empty list to new file.\n",
      "- 0 previous results found.\n"
     ]
    },
    {
     "data": {
      "text/plain": [
       "85"
      ]
     },
     "execution_count": 14,
     "metadata": {},
     "output_type": "execute_result"
    }
   ],
   "source": [
    "## Create a new empty json file (exist the previous if it exists)\n",
    "create_json_file(JSON_FILE, delete_if_exists=True)\n",
    "## Load previous results and use len of results for offset\n",
    "with open(JSON_FILE,'r') as f:\n",
    "    previous_results = json.load(f)\n",
    "    \n",
    "## set offset based on previous results\n",
    "n_results = len(previous_results)\n",
    "print(f'- {n_results} previous results found.')\n",
    "# use our yelp_api variable's search_query method to perform our API call\n",
    "results = yelp_api.search_query(location=LOCATION,\n",
    "                                term=TERM,\n",
    "                               offset=n_results)\n",
    "## How many results total?\n",
    "total_results = results['total']\n",
    "## How many did we get the details for?\n",
    "results_per_page = len(results['businesses'])\n",
    "# Use math.ceil to round up for the total number of pages of results.\n",
    "n_pages = math.ceil((results['total']-n_results)/ results_per_page)\n",
    "n_pages"
   ]
  },
  {
   "cell_type": "code",
   "execution_count": 15,
   "id": "a40ba90e",
   "metadata": {},
   "outputs": [
    {
     "data": {
      "application/vnd.jupyter.widget-view+json": {
       "model_id": "b38aff3ba658412abbca3ccf13383c21",
       "version_major": 2,
       "version_minor": 0
      },
      "text/plain": [
       "  0%|          | 0/85 [00:00<?, ?it/s]"
      ]
     },
     "metadata": {},
     "output_type": "display_data"
    },
    {
     "name": "stdout",
     "output_type": "stream",
     "text": [
      "Exceeded 1000 api calls. Stopping loop.\n"
     ]
    }
   ],
   "source": [
    "for i in tqdm_notebook( range(1,n_pages+1)):\n",
    "    \n",
    "    ## Read in results in progress file and check the length\n",
    "    with open(JSON_FILE, 'r') as f:\n",
    "        previous_results = json.load(f)\n",
    "    ## save number of results for to use as offset\n",
    "    n_results = len(previous_results)\n",
    "    \n",
    "    if (n_results + results_per_page) > 1000:\n",
    "        print('Exceeded 1000 api calls. Stopping loop.')\n",
    "        break\n",
    "    \n",
    "    ## use n_results as the OFFSET \n",
    "    results = yelp_api.search_query(location=LOCATION,\n",
    "                                    term=TERM, \n",
    "                                    offset=n_results)\n",
    "    \n",
    "    \n",
    "    \n",
    "    ## append new results and save to file\n",
    "    previous_results.extend(results['businesses'])\n",
    "    \n",
    "    # display(previous_results)\n",
    "    with open(JSON_FILE,'w') as f:\n",
    "        json.dump(previous_results,f)\n",
    "    \n",
    "    time.sleep(.2)"
   ]
  },
  {
   "cell_type": "code",
   "execution_count": 16,
   "id": "9529952f",
   "metadata": {},
   "outputs": [
    {
     "data": {
      "text/html": [
       "<div>\n",
       "<style scoped>\n",
       "    .dataframe tbody tr th:only-of-type {\n",
       "        vertical-align: middle;\n",
       "    }\n",
       "\n",
       "    .dataframe tbody tr th {\n",
       "        vertical-align: top;\n",
       "    }\n",
       "\n",
       "    .dataframe thead th {\n",
       "        text-align: right;\n",
       "    }\n",
       "</style>\n",
       "<table border=\"1\" class=\"dataframe\">\n",
       "  <thead>\n",
       "    <tr style=\"text-align: right;\">\n",
       "      <th></th>\n",
       "      <th>id</th>\n",
       "      <th>alias</th>\n",
       "      <th>name</th>\n",
       "      <th>image_url</th>\n",
       "      <th>is_closed</th>\n",
       "      <th>url</th>\n",
       "      <th>review_count</th>\n",
       "      <th>categories</th>\n",
       "      <th>rating</th>\n",
       "      <th>coordinates</th>\n",
       "      <th>transactions</th>\n",
       "      <th>price</th>\n",
       "      <th>location</th>\n",
       "      <th>phone</th>\n",
       "      <th>display_phone</th>\n",
       "      <th>distance</th>\n",
       "    </tr>\n",
       "  </thead>\n",
       "  <tbody>\n",
       "    <tr>\n",
       "      <th>0</th>\n",
       "      <td>ywxapaOnDn3wyof-35BUIQ</td>\n",
       "      <td>life-of-pie-pizza-portland</td>\n",
       "      <td>Life of Pie Pizza</td>\n",
       "      <td>https://s3-media1.fl.yelpcdn.com/bphoto/LhGaAT...</td>\n",
       "      <td>False</td>\n",
       "      <td>https://www.yelp.com/biz/life-of-pie-pizza-por...</td>\n",
       "      <td>846</td>\n",
       "      <td>[{'alias': 'pizza', 'title': 'Pizza'}, {'alias...</td>\n",
       "      <td>4.5</td>\n",
       "      <td>{'latitude': 45.549394, 'longitude': -122.666518}</td>\n",
       "      <td>[delivery]</td>\n",
       "      <td>$$</td>\n",
       "      <td>{'address1': '3632 N Williams Ave', 'address2'...</td>\n",
       "      <td>+15038200083</td>\n",
       "      <td>(503) 820-0083</td>\n",
       "      <td>1217.933062</td>\n",
       "    </tr>\n",
       "    <tr>\n",
       "      <th>1</th>\n",
       "      <td>-loAMvamhl-6kGw9jnetww</td>\n",
       "      <td>lovelys-fifty-fifty-portland</td>\n",
       "      <td>Lovely's Fifty Fifty</td>\n",
       "      <td>https://s3-media3.fl.yelpcdn.com/bphoto/K-GFEO...</td>\n",
       "      <td>False</td>\n",
       "      <td>https://www.yelp.com/biz/lovelys-fifty-fifty-p...</td>\n",
       "      <td>443</td>\n",
       "      <td>[{'alias': 'pizza', 'title': 'Pizza'}, {'alias...</td>\n",
       "      <td>4.5</td>\n",
       "      <td>{'latitude': 45.5528680273715, 'longitude': -1...</td>\n",
       "      <td>[delivery]</td>\n",
       "      <td>$$</td>\n",
       "      <td>{'address1': '4039 Mississippi Ave N', 'addres...</td>\n",
       "      <td>+15032814060</td>\n",
       "      <td>(503) 281-4060</td>\n",
       "      <td>2020.077922</td>\n",
       "    </tr>\n",
       "    <tr>\n",
       "      <th>2</th>\n",
       "      <td>Sw7ad82uHY6WGbu7TAFXBQ</td>\n",
       "      <td>wild-child-pizza-portland</td>\n",
       "      <td>Wild Child Pizza</td>\n",
       "      <td>https://s3-media4.fl.yelpcdn.com/bphoto/h-XzPj...</td>\n",
       "      <td>False</td>\n",
       "      <td>https://www.yelp.com/biz/wild-child-pizza-port...</td>\n",
       "      <td>14</td>\n",
       "      <td>[{'alias': 'pizza', 'title': 'Pizza'}]</td>\n",
       "      <td>4.5</td>\n",
       "      <td>{'latitude': 45.55896463063948, 'longitude': -...</td>\n",
       "      <td>[delivery, pickup]</td>\n",
       "      <td>NaN</td>\n",
       "      <td>{'address1': '2032 NE Alberta St', 'address2':...</td>\n",
       "      <td>+15037197328</td>\n",
       "      <td>(503) 719-7328</td>\n",
       "      <td>1966.856217</td>\n",
       "    </tr>\n",
       "    <tr>\n",
       "      <th>3</th>\n",
       "      <td>Nr0cDHVHAgfGqrqw5x8ZaA</td>\n",
       "      <td>pizza-thief-portland</td>\n",
       "      <td>Pizza Thief</td>\n",
       "      <td>https://s3-media2.fl.yelpcdn.com/bphoto/DhxaXE...</td>\n",
       "      <td>False</td>\n",
       "      <td>https://www.yelp.com/biz/pizza-thief-portland?...</td>\n",
       "      <td>113</td>\n",
       "      <td>[{'alias': 'pizza', 'title': 'Pizza'}]</td>\n",
       "      <td>5.0</td>\n",
       "      <td>{'latitude': 45.53659869202158, 'longitude': -...</td>\n",
       "      <td>[delivery]</td>\n",
       "      <td>$$</td>\n",
       "      <td>{'address1': '2610 NW Vaughn St', 'address2': ...</td>\n",
       "      <td>+15037197778</td>\n",
       "      <td>(503) 719-7778</td>\n",
       "      <td>4042.713209</td>\n",
       "    </tr>\n",
       "    <tr>\n",
       "      <th>4</th>\n",
       "      <td>o5RwFoFwK0HeqriEQi30Pg</td>\n",
       "      <td>pizzeria-otto-portland</td>\n",
       "      <td>Pizzeria Otto</td>\n",
       "      <td>https://s3-media2.fl.yelpcdn.com/bphoto/_Y8QFy...</td>\n",
       "      <td>False</td>\n",
       "      <td>https://www.yelp.com/biz/pizzeria-otto-portlan...</td>\n",
       "      <td>358</td>\n",
       "      <td>[{'alias': 'pizza', 'title': 'Pizza'}]</td>\n",
       "      <td>4.0</td>\n",
       "      <td>{'latitude': 45.5462419841536, 'longitude': -1...</td>\n",
       "      <td>[delivery]</td>\n",
       "      <td>$$</td>\n",
       "      <td>{'address1': '6708 NE Sandy Blvd', 'address2':...</td>\n",
       "      <td>+19713738348</td>\n",
       "      <td>(971) 373-8348</td>\n",
       "      <td>4668.798142</td>\n",
       "    </tr>\n",
       "  </tbody>\n",
       "</table>\n",
       "</div>"
      ],
      "text/plain": [
       "                       id                         alias                  name  \\\n",
       "0  ywxapaOnDn3wyof-35BUIQ    life-of-pie-pizza-portland     Life of Pie Pizza   \n",
       "1  -loAMvamhl-6kGw9jnetww  lovelys-fifty-fifty-portland  Lovely's Fifty Fifty   \n",
       "2  Sw7ad82uHY6WGbu7TAFXBQ     wild-child-pizza-portland      Wild Child Pizza   \n",
       "3  Nr0cDHVHAgfGqrqw5x8ZaA          pizza-thief-portland           Pizza Thief   \n",
       "4  o5RwFoFwK0HeqriEQi30Pg        pizzeria-otto-portland         Pizzeria Otto   \n",
       "\n",
       "                                           image_url  is_closed  \\\n",
       "0  https://s3-media1.fl.yelpcdn.com/bphoto/LhGaAT...      False   \n",
       "1  https://s3-media3.fl.yelpcdn.com/bphoto/K-GFEO...      False   \n",
       "2  https://s3-media4.fl.yelpcdn.com/bphoto/h-XzPj...      False   \n",
       "3  https://s3-media2.fl.yelpcdn.com/bphoto/DhxaXE...      False   \n",
       "4  https://s3-media2.fl.yelpcdn.com/bphoto/_Y8QFy...      False   \n",
       "\n",
       "                                                 url  review_count  \\\n",
       "0  https://www.yelp.com/biz/life-of-pie-pizza-por...           846   \n",
       "1  https://www.yelp.com/biz/lovelys-fifty-fifty-p...           443   \n",
       "2  https://www.yelp.com/biz/wild-child-pizza-port...            14   \n",
       "3  https://www.yelp.com/biz/pizza-thief-portland?...           113   \n",
       "4  https://www.yelp.com/biz/pizzeria-otto-portlan...           358   \n",
       "\n",
       "                                          categories  rating  \\\n",
       "0  [{'alias': 'pizza', 'title': 'Pizza'}, {'alias...     4.5   \n",
       "1  [{'alias': 'pizza', 'title': 'Pizza'}, {'alias...     4.5   \n",
       "2             [{'alias': 'pizza', 'title': 'Pizza'}]     4.5   \n",
       "3             [{'alias': 'pizza', 'title': 'Pizza'}]     5.0   \n",
       "4             [{'alias': 'pizza', 'title': 'Pizza'}]     4.0   \n",
       "\n",
       "                                         coordinates        transactions  \\\n",
       "0  {'latitude': 45.549394, 'longitude': -122.666518}          [delivery]   \n",
       "1  {'latitude': 45.5528680273715, 'longitude': -1...          [delivery]   \n",
       "2  {'latitude': 45.55896463063948, 'longitude': -...  [delivery, pickup]   \n",
       "3  {'latitude': 45.53659869202158, 'longitude': -...          [delivery]   \n",
       "4  {'latitude': 45.5462419841536, 'longitude': -1...          [delivery]   \n",
       "\n",
       "  price                                           location         phone  \\\n",
       "0    $$  {'address1': '3632 N Williams Ave', 'address2'...  +15038200083   \n",
       "1    $$  {'address1': '4039 Mississippi Ave N', 'addres...  +15032814060   \n",
       "2   NaN  {'address1': '2032 NE Alberta St', 'address2':...  +15037197328   \n",
       "3    $$  {'address1': '2610 NW Vaughn St', 'address2': ...  +15037197778   \n",
       "4    $$  {'address1': '6708 NE Sandy Blvd', 'address2':...  +19713738348   \n",
       "\n",
       "    display_phone     distance  \n",
       "0  (503) 820-0083  1217.933062  \n",
       "1  (503) 281-4060  2020.077922  \n",
       "2  (503) 719-7328  1966.856217  \n",
       "3  (503) 719-7778  4042.713209  \n",
       "4  (971) 373-8348  4668.798142  "
      ]
     },
     "metadata": {},
     "output_type": "display_data"
    },
    {
     "data": {
      "text/html": [
       "<div>\n",
       "<style scoped>\n",
       "    .dataframe tbody tr th:only-of-type {\n",
       "        vertical-align: middle;\n",
       "    }\n",
       "\n",
       "    .dataframe tbody tr th {\n",
       "        vertical-align: top;\n",
       "    }\n",
       "\n",
       "    .dataframe thead th {\n",
       "        text-align: right;\n",
       "    }\n",
       "</style>\n",
       "<table border=\"1\" class=\"dataframe\">\n",
       "  <thead>\n",
       "    <tr style=\"text-align: right;\">\n",
       "      <th></th>\n",
       "      <th>id</th>\n",
       "      <th>alias</th>\n",
       "      <th>name</th>\n",
       "      <th>image_url</th>\n",
       "      <th>is_closed</th>\n",
       "      <th>url</th>\n",
       "      <th>review_count</th>\n",
       "      <th>categories</th>\n",
       "      <th>rating</th>\n",
       "      <th>coordinates</th>\n",
       "      <th>transactions</th>\n",
       "      <th>price</th>\n",
       "      <th>location</th>\n",
       "      <th>phone</th>\n",
       "      <th>display_phone</th>\n",
       "      <th>distance</th>\n",
       "    </tr>\n",
       "  </thead>\n",
       "  <tbody>\n",
       "    <tr>\n",
       "      <th>995</th>\n",
       "      <td>YcNL6pQPz2P26WiT05a0ww</td>\n",
       "      <td>little-caesars-pizza-portland-19</td>\n",
       "      <td>Little Caesars Pizza</td>\n",
       "      <td>https://s3-media1.fl.yelpcdn.com/bphoto/3ynVbH...</td>\n",
       "      <td>False</td>\n",
       "      <td>https://www.yelp.com/biz/little-caesars-pizza-...</td>\n",
       "      <td>28</td>\n",
       "      <td>[{'alias': 'italian', 'title': 'Italian'}, {'a...</td>\n",
       "      <td>2.0</td>\n",
       "      <td>{'latitude': 45.50601, 'longitude': -122.495184}</td>\n",
       "      <td>[]</td>\n",
       "      <td>$</td>\n",
       "      <td>{'address1': '16353 SE Division St', 'address2...</td>\n",
       "      <td>+15037611141</td>\n",
       "      <td>(503) 761-1141</td>\n",
       "      <td>13054.311361</td>\n",
       "    </tr>\n",
       "    <tr>\n",
       "      <th>996</th>\n",
       "      <td>GLv7PEqqPrq1g5L1IezVPg</td>\n",
       "      <td>colwood-golf-center-portland-2</td>\n",
       "      <td>Colwood Golf Center</td>\n",
       "      <td>https://s3-media1.fl.yelpcdn.com/bphoto/EbeTTi...</td>\n",
       "      <td>False</td>\n",
       "      <td>https://www.yelp.com/biz/colwood-golf-center-p...</td>\n",
       "      <td>34</td>\n",
       "      <td>[{'alias': 'golf', 'title': 'Golf'}, {'alias':...</td>\n",
       "      <td>3.5</td>\n",
       "      <td>{'latitude': 45.56668978708045, 'longitude': -...</td>\n",
       "      <td>[]</td>\n",
       "      <td>NaN</td>\n",
       "      <td>{'address1': '7313 NE Columbia Blvd', 'address...</td>\n",
       "      <td>+15032545515</td>\n",
       "      <td>(503) 254-5515</td>\n",
       "      <td>5855.932201</td>\n",
       "    </tr>\n",
       "    <tr>\n",
       "      <th>997</th>\n",
       "      <td>1z-8TpwLRGZF6tDehvIWyQ</td>\n",
       "      <td>wilsonville-old-church-and-pub-wilsonville</td>\n",
       "      <td>Wilsonville Old Church &amp; Pub</td>\n",
       "      <td>https://s3-media1.fl.yelpcdn.com/bphoto/kaVLjS...</td>\n",
       "      <td>False</td>\n",
       "      <td>https://www.yelp.com/biz/wilsonville-old-churc...</td>\n",
       "      <td>289</td>\n",
       "      <td>[{'alias': 'pubs', 'title': 'Pubs'}, {'alias':...</td>\n",
       "      <td>3.0</td>\n",
       "      <td>{'latitude': 45.3011099, 'longitude': -122.773...</td>\n",
       "      <td>[]</td>\n",
       "      <td>$$</td>\n",
       "      <td>{'address1': '30340 SW Boones Ferry Rd.', 'add...</td>\n",
       "      <td>+15034272500</td>\n",
       "      <td>(503) 427-2500</td>\n",
       "      <td>28428.159208</td>\n",
       "    </tr>\n",
       "    <tr>\n",
       "      <th>998</th>\n",
       "      <td>ZF3psJYkJp_lCkKW2Ov7Rw</td>\n",
       "      <td>papa-johns-pizza-hillsboro</td>\n",
       "      <td>Papa Johns Pizza</td>\n",
       "      <td>https://s3-media4.fl.yelpcdn.com/bphoto/SG0MLa...</td>\n",
       "      <td>False</td>\n",
       "      <td>https://www.yelp.com/biz/papa-johns-pizza-hill...</td>\n",
       "      <td>29</td>\n",
       "      <td>[{'alias': 'pizza', 'title': 'Pizza'}, {'alias...</td>\n",
       "      <td>2.5</td>\n",
       "      <td>{'latitude': 45.530086, 'longitude': -122.961358}</td>\n",
       "      <td>[delivery, pickup]</td>\n",
       "      <td>$</td>\n",
       "      <td>{'address1': '2020 NE Cornell Rd', 'address2':...</td>\n",
       "      <td>+15036153131</td>\n",
       "      <td>(503) 615-3131</td>\n",
       "      <td>23984.139829</td>\n",
       "    </tr>\n",
       "    <tr>\n",
       "      <th>999</th>\n",
       "      <td>eojSyktwLt0tS9mLxTyiKA</td>\n",
       "      <td>lents-international-farmers-market-portland</td>\n",
       "      <td>Lents International Farmers Market</td>\n",
       "      <td>https://s3-media3.fl.yelpcdn.com/bphoto/IcqAXF...</td>\n",
       "      <td>False</td>\n",
       "      <td>https://www.yelp.com/biz/lents-international-f...</td>\n",
       "      <td>14</td>\n",
       "      <td>[{'alias': 'farmersmarket', 'title': 'Farmers ...</td>\n",
       "      <td>4.5</td>\n",
       "      <td>{'latitude': 45.481323, 'longitude': -122.568605}</td>\n",
       "      <td>[]</td>\n",
       "      <td>$</td>\n",
       "      <td>{'address1': 'SE 92nd &amp; Reedway', 'address2': ...</td>\n",
       "      <td>+15032410032</td>\n",
       "      <td>(503) 241-0032</td>\n",
       "      <td>9539.754084</td>\n",
       "    </tr>\n",
       "  </tbody>\n",
       "</table>\n",
       "</div>"
      ],
      "text/plain": [
       "                         id                                        alias  \\\n",
       "995  YcNL6pQPz2P26WiT05a0ww             little-caesars-pizza-portland-19   \n",
       "996  GLv7PEqqPrq1g5L1IezVPg               colwood-golf-center-portland-2   \n",
       "997  1z-8TpwLRGZF6tDehvIWyQ   wilsonville-old-church-and-pub-wilsonville   \n",
       "998  ZF3psJYkJp_lCkKW2Ov7Rw                   papa-johns-pizza-hillsboro   \n",
       "999  eojSyktwLt0tS9mLxTyiKA  lents-international-farmers-market-portland   \n",
       "\n",
       "                                   name  \\\n",
       "995                Little Caesars Pizza   \n",
       "996                 Colwood Golf Center   \n",
       "997        Wilsonville Old Church & Pub   \n",
       "998                    Papa Johns Pizza   \n",
       "999  Lents International Farmers Market   \n",
       "\n",
       "                                             image_url  is_closed  \\\n",
       "995  https://s3-media1.fl.yelpcdn.com/bphoto/3ynVbH...      False   \n",
       "996  https://s3-media1.fl.yelpcdn.com/bphoto/EbeTTi...      False   \n",
       "997  https://s3-media1.fl.yelpcdn.com/bphoto/kaVLjS...      False   \n",
       "998  https://s3-media4.fl.yelpcdn.com/bphoto/SG0MLa...      False   \n",
       "999  https://s3-media3.fl.yelpcdn.com/bphoto/IcqAXF...      False   \n",
       "\n",
       "                                                   url  review_count  \\\n",
       "995  https://www.yelp.com/biz/little-caesars-pizza-...            28   \n",
       "996  https://www.yelp.com/biz/colwood-golf-center-p...            34   \n",
       "997  https://www.yelp.com/biz/wilsonville-old-churc...           289   \n",
       "998  https://www.yelp.com/biz/papa-johns-pizza-hill...            29   \n",
       "999  https://www.yelp.com/biz/lents-international-f...            14   \n",
       "\n",
       "                                            categories  rating  \\\n",
       "995  [{'alias': 'italian', 'title': 'Italian'}, {'a...     2.0   \n",
       "996  [{'alias': 'golf', 'title': 'Golf'}, {'alias':...     3.5   \n",
       "997  [{'alias': 'pubs', 'title': 'Pubs'}, {'alias':...     3.0   \n",
       "998  [{'alias': 'pizza', 'title': 'Pizza'}, {'alias...     2.5   \n",
       "999  [{'alias': 'farmersmarket', 'title': 'Farmers ...     4.5   \n",
       "\n",
       "                                           coordinates        transactions  \\\n",
       "995   {'latitude': 45.50601, 'longitude': -122.495184}                  []   \n",
       "996  {'latitude': 45.56668978708045, 'longitude': -...                  []   \n",
       "997  {'latitude': 45.3011099, 'longitude': -122.773...                  []   \n",
       "998  {'latitude': 45.530086, 'longitude': -122.961358}  [delivery, pickup]   \n",
       "999  {'latitude': 45.481323, 'longitude': -122.568605}                  []   \n",
       "\n",
       "    price                                           location         phone  \\\n",
       "995     $  {'address1': '16353 SE Division St', 'address2...  +15037611141   \n",
       "996   NaN  {'address1': '7313 NE Columbia Blvd', 'address...  +15032545515   \n",
       "997    $$  {'address1': '30340 SW Boones Ferry Rd.', 'add...  +15034272500   \n",
       "998     $  {'address1': '2020 NE Cornell Rd', 'address2':...  +15036153131   \n",
       "999     $  {'address1': 'SE 92nd & Reedway', 'address2': ...  +15032410032   \n",
       "\n",
       "      display_phone      distance  \n",
       "995  (503) 761-1141  13054.311361  \n",
       "996  (503) 254-5515   5855.932201  \n",
       "997  (503) 427-2500  28428.159208  \n",
       "998  (503) 615-3131  23984.139829  \n",
       "999  (503) 241-0032   9539.754084  "
      ]
     },
     "metadata": {},
     "output_type": "display_data"
    }
   ],
   "source": [
    "# load final results\n",
    "final_df = pd.read_json(JSON_FILE)\n",
    "display(final_df.head(), final_df.tail())"
   ]
  },
  {
   "cell_type": "code",
   "execution_count": null,
   "id": "ea48bbc0",
   "metadata": {},
   "outputs": [],
   "source": []
  }
 ],
 "metadata": {
  "kernelspec": {
   "display_name": "Python (dojo-env)",
   "language": "python",
   "name": "dojo-env"
  },
  "language_info": {
   "codemirror_mode": {
    "name": "ipython",
    "version": 3
   },
   "file_extension": ".py",
   "mimetype": "text/x-python",
   "name": "python",
   "nbconvert_exporter": "python",
   "pygments_lexer": "ipython3",
   "version": "3.9.15"
  },
  "toc": {
   "base_numbering": 1,
   "nav_menu": {},
   "number_sections": false,
   "sideBar": true,
   "skip_h1_title": false,
   "title_cell": "Table of Contents",
   "title_sidebar": "Contents",
   "toc_cell": false,
   "toc_position": {},
   "toc_section_display": true,
   "toc_window_display": false
  }
 },
 "nbformat": 4,
 "nbformat_minor": 5
}
